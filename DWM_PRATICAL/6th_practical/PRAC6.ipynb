{
  "nbformat": 4,
  "nbformat_minor": 0,
  "metadata": {
    "colab": {
      "provenance": []
    },
    "kernelspec": {
      "name": "python3",
      "display_name": "Python 3"
    },
    "language_info": {
      "name": "python"
    }
  },
  "cells": [
    {
      "cell_type": "code",
      "execution_count": null,
      "metadata": {
        "colab": {
          "base_uri": "https://localhost:8080/"
        },
        "id": "aVxov8EtDLbl",
        "outputId": "3daf9123-ed13-4370-f0a9-078b8c50c61c"
      },
      "outputs": [
        {
          "output_type": "stream",
          "name": "stdout",
          "text": [
            "Requirement already satisfied: apyori in /usr/local/lib/python3.11/dist-packages (1.1.2)\n"
          ]
        }
      ],
      "source": [
        "!pip install apyori"
      ]
    },
    {
      "cell_type": "code",
      "source": [
        "#import requires libraries\n",
        "import numpy as np\n",
        "import pandas as pd\n",
        "from apyori import apriori"
      ],
      "metadata": {
        "id": "7h1WnZ97DZKk"
      },
      "execution_count": null,
      "outputs": []
    },
    {
      "cell_type": "code",
      "source": [
        "#Load the dataset\n",
        "store_data = pd.read_csv('Day1.csv',header=None)"
      ],
      "metadata": {
        "id": "jrRltJ1QFo-j"
      },
      "execution_count": null,
      "outputs": []
    },
    {
      "cell_type": "code",
      "source": [
        "#have a look at the dataset\n",
        "print(store_data)"
      ],
      "metadata": {
        "colab": {
          "base_uri": "https://localhost:8080/"
        },
        "id": "J_8lmi2gF9YL",
        "outputId": "80e08978-064c-45df-84d4-7822a5c8eea5"
      },
      "execution_count": null,
      "outputs": [
        {
          "output_type": "stream",
          "name": "stdout",
          "text": [
            "       0      1      2       3     4      5\n",
            "0   Wine  Chips  Bread  Butter  Milk  Apple\n",
            "1   Wine    NaN  Bread  Butter  Milk    NaN\n",
            "2    NaN    NaN  Bread  Butter  Milk    NaN\n",
            "3    NaN  Chips    NaN     NaN   NaN  Apple\n",
            "4   Wine  Chips  Bread  Butter  Milk  Apple\n",
            "5   Wine  Chips    NaN     NaN  Milk    NaN\n",
            "6   Wine  Chips  Bread  Butter   NaN  Apple\n",
            "7   Wine  Chips    NaN     NaN  Milk    NaN\n",
            "8   Wine    NaN  Bread     NaN   NaN  Apple\n",
            "9   Wine    NaN  Bread  Butter  Milk    NaN\n",
            "10   NaN  Chips  Bread  Butter   NaN  Apple\n",
            "11  Wine    NaN    NaN  Butter  Milk  Apple\n",
            "12  Wine  Chips  Bread  Butter  Milk    NaN\n",
            "13  Wine    NaN  Bread     NaN  Milk  Apple\n",
            "14  Wine    NaN  Bread  Butter  Milk  Apple\n",
            "15  Wine  Chips  Bread  Butter  Milk  Apple\n",
            "16   NaN  Chips  Bread  Butter  Milk  Apple\n",
            "17   NaN  Chips    NaN  Butter  Milk  Apple\n",
            "18  Wine  Chips  Bread  Butter  Milk  Apple\n",
            "19  Wine    NaN  Bread  Butter  Milk  Apple\n",
            "20  Wine  Chips  Bread     NaN  Milk  Apple\n",
            "21   NaN  Chips    NaN     NaN   NaN    NaN\n"
          ]
        }
      ]
    },
    {
      "cell_type": "code",
      "source": [
        "#find the shape of the dataset\n",
        "store_data.shape"
      ],
      "metadata": {
        "colab": {
          "base_uri": "https://localhost:8080/"
        },
        "id": "x-BVSzwcGPp7",
        "outputId": "dc791bec-eb4a-434b-b80e-9e5ee286c932"
      },
      "execution_count": null,
      "outputs": [
        {
          "output_type": "execute_result",
          "data": {
            "text/plain": [
              "(22, 6)"
            ]
          },
          "metadata": {},
          "execution_count": 7
        }
      ]
    },
    {
      "cell_type": "markdown",
      "source": [
        "**Convert the pandas dataframe into a list of lists**"
      ],
      "metadata": {
        "id": "o90jXKBaGcSL"
      }
    },
    {
      "cell_type": "code",
      "source": [
        "records=[]\n",
        "for i in range(0,22):\n",
        "  records.append([str(store_data.values[i,j]) for j in range(0,6)])"
      ],
      "metadata": {
        "id": "miqDB7hMGn8R"
      },
      "execution_count": null,
      "outputs": []
    },
    {
      "cell_type": "code",
      "source": [
        "records"
      ],
      "metadata": {
        "colab": {
          "base_uri": "https://localhost:8080/"
        },
        "id": "X5m8s_sJG7z7",
        "outputId": "6e7be7df-799f-47b9-9ac0-fee6c76afa7e"
      },
      "execution_count": null,
      "outputs": [
        {
          "output_type": "execute_result",
          "data": {
            "text/plain": [
              "[['Wine', 'Chips', 'Bread', 'Butter', 'Milk', 'Apple'],\n",
              " ['Wine', 'nan', 'Bread', 'Butter', 'Milk', 'nan'],\n",
              " ['nan', 'nan', 'Bread', 'Butter', 'Milk', 'nan'],\n",
              " ['nan', 'Chips', 'nan', 'nan', 'nan', 'Apple'],\n",
              " ['Wine', 'Chips', 'Bread', 'Butter', 'Milk', 'Apple'],\n",
              " ['Wine', 'Chips', 'nan', 'nan', 'Milk', 'nan'],\n",
              " ['Wine', 'Chips', 'Bread', 'Butter', 'nan', 'Apple'],\n",
              " ['Wine', 'Chips', 'nan', 'nan', 'Milk', 'nan'],\n",
              " ['Wine', 'nan', 'Bread', 'nan', 'nan', 'Apple'],\n",
              " ['Wine', 'nan', 'Bread', 'Butter', 'Milk', 'nan'],\n",
              " ['nan', 'Chips', 'Bread', 'Butter', 'nan', 'Apple'],\n",
              " ['Wine', 'nan', 'nan', 'Butter', 'Milk', 'Apple'],\n",
              " ['Wine', 'Chips', 'Bread', 'Butter', 'Milk', 'nan'],\n",
              " ['Wine', 'nan', 'Bread', 'nan', 'Milk', 'Apple'],\n",
              " ['Wine', 'nan', 'Bread', 'Butter', 'Milk', 'Apple'],\n",
              " ['Wine', 'Chips', 'Bread', 'Butter', 'Milk', 'Apple'],\n",
              " ['nan', 'Chips', 'Bread', 'Butter', 'Milk', 'Apple'],\n",
              " ['nan', 'Chips', 'nan', 'Butter', 'Milk', 'Apple'],\n",
              " ['Wine', 'Chips', 'Bread', 'Butter', 'Milk', 'Apple'],\n",
              " ['Wine', 'nan', 'Bread', 'Butter', 'Milk', 'Apple'],\n",
              " ['Wine', 'Chips', 'Bread', 'nan', 'Milk', 'Apple'],\n",
              " ['nan', 'Chips', 'nan', 'nan', 'nan', 'nan']]"
            ]
          },
          "metadata": {},
          "execution_count": 9
        }
      ]
    },
    {
      "cell_type": "markdown",
      "source": [
        "**Build the Apriori Model**"
      ],
      "metadata": {
        "id": "GMcxB3omG95i"
      }
    },
    {
      "cell_type": "code",
      "source": [
        "#Building the first apriori model\n",
        "association_rules = apriori(records, min_support=0.50, min_confidence=0.7, min_lift=1.2, min_length=2)\n",
        "association_results = list(association_rules)"
      ],
      "metadata": {
        "id": "UXFw0NXrHBai"
      },
      "execution_count": null,
      "outputs": []
    },
    {
      "cell_type": "code",
      "source": [
        "#print the number of rules\n",
        "print(len(association_results))"
      ],
      "metadata": {
        "colab": {
          "base_uri": "https://localhost:8080/"
        },
        "id": "Bsi-0rSwHh2r",
        "outputId": "a5a54c74-b290-4329-fa77-6c23de6b1059"
      },
      "execution_count": null,
      "outputs": [
        {
          "output_type": "stream",
          "name": "stdout",
          "text": [
            "1\n"
          ]
        }
      ]
    },
    {
      "cell_type": "code",
      "source": [
        "#have a glance on the rule\n",
        "print(association_results[0])"
      ],
      "metadata": {
        "colab": {
          "base_uri": "https://localhost:8080/"
        },
        "id": "oX8LbGlHHrC6",
        "outputId": "3e7c52ba-b4f1-47c1-d66b-1ea8db83bde4"
      },
      "execution_count": null,
      "outputs": [
        {
          "output_type": "stream",
          "name": "stdout",
          "text": [
            "RelationRecord(items=frozenset({'Butter', 'Milk', 'Bread'}), support=0.5, ordered_statistics=[OrderedStatistic(items_base=frozenset({'Butter'}), items_add=frozenset({'Milk', 'Bread'}), confidence=0.7333333333333334, lift=1.241025641025641), OrderedStatistic(items_base=frozenset({'Milk', 'Bread'}), items_add=frozenset({'Butter'}), confidence=0.8461538461538461, lift=1.241025641025641)])\n"
          ]
        }
      ]
    },
    {
      "cell_type": "markdown",
      "source": [
        "**The support value for the first rule is 0.5.**  The number is calculated by dividing the number of transactions containing 'Milk','Bread' and 'Butter' by the total number of transactions"
      ],
      "metadata": {
        "id": "-XsAaWCUH1HS"
      }
    },
    {
      "cell_type": "code",
      "source": [],
      "metadata": {
        "id": "9207n-FUIVVq"
      },
      "execution_count": null,
      "outputs": []
    }
  ]
}