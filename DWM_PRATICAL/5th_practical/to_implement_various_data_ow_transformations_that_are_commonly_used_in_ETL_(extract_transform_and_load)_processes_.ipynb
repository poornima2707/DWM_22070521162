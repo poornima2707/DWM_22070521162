{
  "nbformat": 4,
  "nbformat_minor": 0,
  "metadata": {
    "colab": {
      "provenance": []
    },
    "kernelspec": {
      "name": "python3",
      "display_name": "Python 3"
    },
    "language_info": {
      "name": "python"
    }
  },
  "cells": [
    {
      "cell_type": "code",
      "execution_count": 8,
      "metadata": {
        "colab": {
          "base_uri": "https://localhost:8080/"
        },
        "id": "7LKHSHZZWtGg",
        "outputId": "9311a8c6-19d6-492c-dfb8-a380069c9ae0"
      },
      "outputs": [
        {
          "output_type": "stream",
          "name": "stdout",
          "text": [
            "Original Dataset:\n",
            "   ID      Name  Age    Country  Sales\n",
            "0   1  Poornima   25      India    200\n",
            "1   2      Siya   30         UK    450\n",
            "2   3    Preeti   35        USA    300\n",
            "3   4     Aryan   40  Australia    800\n",
            "4   5     Purva   22     Canada    150\n",
            "5   6    Shreya   29     Russia    400\n"
          ]
        }
      ],
      "source": [
        "# Importing required libraries\n",
        "import pandas as pd\n",
        "import numpy as np\n",
        "import matplotlib.pyplot as pl\n",
        "#input data\n",
        "data={\n",
        "'ID': [1, 2, 3, 4, 5, 6],\n",
        "'Name': ['Poornima', 'Siya', 'Preeti', 'Aryan', 'Purva', 'Shreya'],\n",
        "'Age': [25, 30, 35, 40, 22, 29],\n",
        "'Country': ['India', 'UK', 'USA', 'Australia', 'Canada', 'Russia'],\n",
        "'Sales': [200, 450, 300, 800, 150, 400]\n",
        "}\n",
        "#create dataframe\n",
        "df = pd.DataFrame(data)\n",
        "print(\"Original Dataset:\")\n",
        "print(df)\n"
      ]
    },
    {
      "cell_type": "code",
      "source": [
        "#Data Transforamtions\n",
        "#character map\n",
        "#description: Transform text data by changing the case of characters.\n",
        "#Here, we will convert the Name column to uppercase.\n",
        "df['Name_Upper']=df['Name'].str.upper()\n",
        "print(\"\\nCharacter Map (Uppercase Names):\")\n",
        "print(df[['ID','Name','Name_Upper']])"
      ],
      "metadata": {
        "colab": {
          "base_uri": "https://localhost:8080/"
        },
        "id": "ML_QHmzqXIiY",
        "outputId": "1e633520-614a-419e-bbc8-46eaf29d9064"
      },
      "execution_count": 9,
      "outputs": [
        {
          "output_type": "stream",
          "name": "stdout",
          "text": [
            "\n",
            "Character Map (Uppercase Names):\n",
            "   ID      Name Name_Upper\n",
            "0   1  Poornima   POORNIMA\n",
            "1   2      Siya       SIYA\n",
            "2   3    Preeti     PREETI\n",
            "3   4     Aryan      ARYAN\n",
            "4   5     Purva      PURVA\n",
            "5   6    Shreya     SHREYA\n"
          ]
        }
      ]
    },
    {
      "cell_type": "code",
      "source": [
        "#multicast: create two copies of the dataset\n",
        "df_copy1 = df.copy()\n",
        "df_copy2 = df.copy()\n",
        "#transformations on each copy\n",
        "df_copy1['Sales'] *= 1.1 #increase sales by 10%\n",
        "df_copy2['Age'] += 5\n",
        "print(\"\\nMulticast (Modified copies):\")\n",
        "print(\"Copy 1 (Sales Increased):\")\n",
        "print(df_copy1)\n",
        "print(\"\\nCopy 2 (Age Increased):\")\n",
        "print(df_copy2)\n"
      ],
      "metadata": {
        "colab": {
          "base_uri": "https://localhost:8080/"
        },
        "id": "jfRIOzUdXMO6",
        "outputId": "4a65da4f-b19c-4f2a-c7d5-7f522dea99e5"
      },
      "execution_count": 10,
      "outputs": [
        {
          "output_type": "stream",
          "name": "stdout",
          "text": [
            "\n",
            "Multicast (Modified copies):\n",
            "Copy 1 (Sales Increased):\n",
            "   ID      Name  Age    Country  Sales Name_Upper\n",
            "0   1  Poornima   25      India  220.0   POORNIMA\n",
            "1   2      Siya   30         UK  495.0       SIYA\n",
            "2   3    Preeti   35        USA  330.0     PREETI\n",
            "3   4     Aryan   40  Australia  880.0      ARYAN\n",
            "4   5     Purva   22     Canada  165.0      PURVA\n",
            "5   6    Shreya   29     Russia  440.0     SHREYA\n",
            "\n",
            "Copy 2 (Age Increased):\n",
            "   ID      Name  Age    Country  Sales Name_Upper\n",
            "0   1  Poornima   30      India    200   POORNIMA\n",
            "1   2      Siya   35         UK    450       SIYA\n",
            "2   3    Preeti   40        USA    300     PREETI\n",
            "3   4     Aryan   45  Australia    800      ARYAN\n",
            "4   5     Purva   27     Canada    150      PURVA\n",
            "5   6    Shreya   34     Russia    400     SHREYA\n"
          ]
        }
      ]
    },
    {
      "cell_type": "code",
      "source": [
        "#3. Conditional split\n",
        "#description: split data based on a condition.\n",
        "#Here, we will separate rows with Sales > 300.\n",
        "#Conditional split: Sales > 300\n",
        "high_sales = df[df['Sales'] > 300]\n",
        "low_sales = df[df['Sales'] <= 300]\n",
        "print(\"\\nHigh sales :\")\n",
        "print(high_sales)\n",
        "print(\"\\nLow sales :\")\n",
        "print(low_sales)"
      ],
      "metadata": {
        "colab": {
          "base_uri": "https://localhost:8080/"
        },
        "id": "HXifHNVQXR3v",
        "outputId": "e588c3e5-1961-4a33-da45-3574533db1db"
      },
      "execution_count": 11,
      "outputs": [
        {
          "output_type": "stream",
          "name": "stdout",
          "text": [
            "\n",
            "High sales :\n",
            "   ID    Name  Age    Country  Sales Name_Upper\n",
            "1   2    Siya   30         UK    450       SIYA\n",
            "3   4   Aryan   40  Australia    800      ARYAN\n",
            "5   6  Shreya   29     Russia    400     SHREYA\n",
            "\n",
            "Low sales :\n",
            "   ID      Name  Age Country  Sales Name_Upper\n",
            "0   1  Poornima   25   India    200   POORNIMA\n",
            "2   3    Preeti   35     USA    300     PREETI\n",
            "4   5     Purva   22  Canada    150      PURVA\n"
          ]
        }
      ]
    },
    {
      "cell_type": "code",
      "source": [
        "#4.Aggreagation\n",
        "#Description: Aggreagate data, e.g.,calculate Total Sales by Country\n",
        "agg_df = df.groupby('Country')['Sales'].sum().reset_index()\n",
        "print(\"\\nAggregation (Total Sales by Country):\")\n",
        "print(agg_df)"
      ],
      "metadata": {
        "colab": {
          "base_uri": "https://localhost:8080/"
        },
        "id": "agITUIlVXXfV",
        "outputId": "ed08e523-65fa-4f62-e479-e962467294a6"
      },
      "execution_count": 12,
      "outputs": [
        {
          "output_type": "stream",
          "name": "stdout",
          "text": [
            "\n",
            "Aggregation (Total Sales by Country):\n",
            "     Country  Sales\n",
            "0  Australia    800\n",
            "1     Canada    150\n",
            "2      India    200\n",
            "3     Russia    400\n",
            "4         UK    450\n",
            "5        USA    300\n"
          ]
        }
      ]
    },
    {
      "cell_type": "code",
      "source": [
        "#5. Sort\n",
        "#Description: Sort the dataset by Sales in descending order.\n",
        "#Sort: Sort by Sales in descending order\n",
        "sorted_df = df.sort_values(by='Sales', ascending=False)\n",
        "print(\"\\nSort (Descending Sales):\")\n",
        "print(sorted_df)\n"
      ],
      "metadata": {
        "colab": {
          "base_uri": "https://localhost:8080/"
        },
        "id": "6P2D6QJLXbv1",
        "outputId": "f5f831f3-caf7-4f6b-96c5-8e5fc31123ca"
      },
      "execution_count": 13,
      "outputs": [
        {
          "output_type": "stream",
          "name": "stdout",
          "text": [
            "\n",
            "Sort (Descending Sales):\n",
            "   ID      Name  Age    Country  Sales Name_Upper\n",
            "3   4     Aryan   40  Australia    800      ARYAN\n",
            "1   2      Siya   30         UK    450       SIYA\n",
            "5   6    Shreya   29     Russia    400     SHREYA\n",
            "2   3    Preeti   35        USA    300     PREETI\n",
            "0   1  Poornima   25      India    200   POORNIMA\n",
            "4   5     Purva   22     Canada    150      PURVA\n"
          ]
        }
      ]
    },
    {
      "cell_type": "code",
      "source": [
        "#6.Derived Column: Categorize sales as 'High' or 'Low'.\n",
        "#create a new column by deriving information from existing data.\n",
        "#Derived Column: Categorize sales as 'High' or 'Low'.\n",
        "df['Sales_Category'] = df['Sales'].apply(lambda x: 'High' if x > 300 else'Low')\n",
        "print(\"\\nDerived Column (Sales Category):\")\n",
        "print(df[['ID','Name','Sales','Sales_Category']])"
      ],
      "metadata": {
        "colab": {
          "base_uri": "https://localhost:8080/"
        },
        "id": "EpS1CmCbXtfP",
        "outputId": "945c4af1-2ae9-4c15-f547-bc23d56df8c5"
      },
      "execution_count": 14,
      "outputs": [
        {
          "output_type": "stream",
          "name": "stdout",
          "text": [
            "\n",
            "Derived Column (Sales Category):\n",
            "   ID      Name  Sales Sales_Category\n",
            "0   1  Poornima    200            Low\n",
            "1   2      Siya    450           High\n",
            "2   3    Preeti    300            Low\n",
            "3   4     Aryan    800           High\n",
            "4   5     Purva    150            Low\n",
            "5   6    Shreya    400           High\n"
          ]
        }
      ]
    }
  ]
}